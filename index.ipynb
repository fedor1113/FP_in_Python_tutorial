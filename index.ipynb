{
 "cells": [
  {
   "cell_type": "code",
   "execution_count": null,
   "metadata": {
    "slideshow": {
     "slide_type": "skip"
    },
    "tags": []
   },
   "outputs": [],
   "source": [
    "%texify"
   ]
  },
  {
   "cell_type": "markdown",
   "metadata": {
    "slideshow": {
     "slide_type": "slide"
    },
    "tags": []
   },
   "source": [
    "\n",
    "<img src='./photo_2021-11-28_19-34-52.jpg' style='float: left; display: block; width:15%; padding: 5px;'>\n",
    "\n",
    "\n",
    "# $\\lambda$FP в Python\n",
    "---\n",
    "*fedor1113*\n",
    "\n",
    "<!-- <style>\n",
    "    * {\n",
    "        text-align: justify !important;\n",
    "    }\n",
    "</style> -->"
   ]
  },
  {
   "cell_type": "markdown",
   "metadata": {
    "slideshow": {
     "slide_type": "slide"
    },
    "tags": []
   },
   "source": [
    "## Функционалность. «Теория суха…» — за что мы её и любим\n",
    "\n",
    "\n",
    "<div style=\"text-align: right !important\">\n",
    "«All race conditions,<br>\n",
    "deadlock conditions, <br>\n",
    "and concurrent update problems <br>\n",
    "are due to mutable variables.»<br>\n",
    "― Robert C. Martin, Clean Architecture\n",
    "</div>"
   ]
  },
  {
   "cell_type": "markdown",
   "metadata": {
    "slideshow": {
     "slide_type": "slide"
    },
    "tags": []
   },
   "source": [
    "<div style='display: block; text-align: center;'><img src=\"Do not repeat the same error in your code over and over again. Create a function with it and call it whenever you need.jpg\"></div>"
   ]
  },
  {
   "cell_type": "markdown",
   "metadata": {
    "slideshow": {
     "slide_type": "slide"
    },
    "tags": []
   },
   "source": [
    "<div style=\"text-align: center;\"><img src=\"mephi.jpg\" style=\"height: 20em !important; display: inline-block;\"> <img src=\"IMG_20220410_223514_1-mephi-lisp.jpg\" style=\"height: 20em !important;  display: inline-block;\"></div>\n",
    "\n",
    "\n",
    "<div style=\"text-align: center;\">*на год моложе Fortran-а*</div>"
   ]
  },
  {
   "cell_type": "markdown",
   "metadata": {
    "slideshow": {
     "slide_type": "slide"
    },
    "tags": []
   },
   "source": [
    "### Чистота\n",
    "\n",
    "\n",
    "<div style=\"text-align: right !important\">\n",
    "«Разорвал я лучистые нити,<br>\n",
    "Обручавшие мне красоту; —<br>\n",
    "Братья, сестры, скажите, скажите,<br>\n",
    "Где мне вновь обрести чистоту?»\n",
    "<br>\n",
    "— Николай Гумилёв, 1906\n",
    "</div>"
   ]
  },
  {
   "cell_type": "markdown",
   "metadata": {
    "slideshow": {
     "slide_type": "subslide"
    },
    "tags": []
   },
   "source": [
    "### Чистота\n",
    "\n",
    "<div style=\"float: left !important;\"><img src=\"Blackbox1.svg\"><br><img src=\"Blackbox.svg\"></div> <div style=\"text-align: justify !important;\"><i>Чистой</i> функцией называют функцию в ныне стандартном математическом понимании этого слова — это определённый закон, ставящий вещи в соответствие. Таким образом, мы возвращаемся к истокам, очищаем наше понимание функции от лишних сложностей: функция, получая на вход один и тот же аргумент всегда, *всегда* должна возвращать одно и то же значение! Это всё. Больше она ничего при этом делать не должна. Пойдём дальше и скажем, что она <em>обязана</em> больше ничего и не делать! Это просто правило соответствия '$x \\mapsto y$'. Получается такое простое определение:</div>"
   ]
  },
  {
   "cell_type": "markdown",
   "metadata": {
    "tags": []
   },
   "source": [
    "<dl>\n",
    "    <dt>Чистая функция</dt>\n",
    "    <dd>\n",
    "        Функция, которая при получении одних и тех же входных данных всегда возвращает одни и те же выходные, не имея при этом побочных эффектов (то есть никак больше не влияющая на окружающий мир и не имеющая внутреннего состояния, меняющего выходные данные).\n",
    "    </dd>\n",
    "</dl><br>\n",
    "\n",
    "\n",
    "Мы можем предсказать поведение чистой функции без знания состояния вызывающей её программы, только из входных данных."
   ]
  },
  {
   "cell_type": "markdown",
   "metadata": {
    "nteract": {
     "transient": {
      "deleting": false
     }
    },
    "slideshow": {
     "slide_type": "subslide"
    },
    "tags": []
   },
   "source": [
    "Что касается возвращения к истокам, тут уместно вспомнить, что изначально в терминологии языка *Pascal* ещё было формальное различие между **функциями** (под чем понимались функционально чистые функции) и **процедурами** (изменяющими внешнее состояние), которое современные языки потеряли."
   ]
  },
  {
   "cell_type": "code",
   "execution_count": 1,
   "metadata": {
    "slideshow": {
     "slide_type": "subslide"
    },
    "tags": []
   },
   "outputs": [
    {
     "name": "stdout",
     "output_type": "stream",
     "text": [
      "['a', 'b']\n",
      "['a']\n"
     ]
    }
   ],
   "source": [
    "from typing import Any\n",
    "\n",
    "lst = ['a', 'b']\n",
    "print(lst)\n",
    "\n",
    "\n",
    "def change(lst: list[Any]) -> None:\n",
    "    \"\"\"Remove the last item from a list.\"\"\"\n",
    "\n",
    "    lst.pop()\n",
    "    # x Unpure! >.<\n",
    "\n",
    "\n",
    "change(lst)\n",
    "print(lst)"
   ]
  },
  {
   "cell_type": "code",
   "execution_count": 2,
   "metadata": {
    "slideshow": {
     "slide_type": "subslide"
    },
    "tags": []
   },
   "outputs": [
    {
     "name": "stdout",
     "output_type": "stream",
     "text": [
      "['a', 'b']\n",
      "['a', 'b']\n"
     ]
    }
   ],
   "source": [
    "from typing import Any\n",
    "\n",
    "lst = ['a', 'b']\n",
    "print(lst)\n",
    "\n",
    "\n",
    "def change(lst: list[Any]) -> list[Any]:\n",
    "    \"\"\"Remove the last item from a list\"\"\"\n",
    "\n",
    "    return lst[:-1]\n",
    "    # ✓\n",
    "\n",
    "\n",
    "change(lst)\n",
    "print(lst)"
   ]
  },
  {
   "cell_type": "markdown",
   "metadata": {
    "slideshow": {
     "slide_type": "subslide"
    },
    "tags": []
   },
   "source": [
    "#### Чистая или нет?"
   ]
  },
  {
   "cell_type": "code",
   "execution_count": 209,
   "metadata": {},
   "outputs": [],
   "source": [
    "x = 1\n",
    "\n",
    "\n",
    "def function():\n",
    "    global x\n",
    "    x += 1\n",
    "\n",
    "    return x\n",
    "\n",
    "\n",
    "function()"
   ]
  },
  {
   "cell_type": "code",
   "execution_count": null,
   "metadata": {
    "slideshow": {
     "slide_type": "notes"
    },
    "tags": []
   },
   "outputs": [],
   "source": [
    "# nope"
   ]
  },
  {
   "cell_type": "markdown",
   "metadata": {
    "slideshow": {
     "slide_type": "subslide"
    },
    "tags": []
   },
   "source": [
    "#### Чистая или нет?"
   ]
  },
  {
   "cell_type": "code",
   "execution_count": 215,
   "metadata": {},
   "outputs": [],
   "source": [
    "y = [1, 2, 3]\n",
    "\n",
    "\n",
    "def function():\n",
    "    z = y.append(4)\n",
    "    return z\n",
    "\n",
    "\n",
    "function()"
   ]
  },
  {
   "cell_type": "code",
   "execution_count": null,
   "metadata": {
    "slideshow": {
     "slide_type": "notes"
    },
    "tags": []
   },
   "outputs": [],
   "source": [
    "# still nope"
   ]
  },
  {
   "cell_type": "markdown",
   "metadata": {
    "slideshow": {
     "slide_type": "subslide"
    },
    "tags": []
   },
   "source": [
    "![scope_resolution_1.png](scope_resolution_1.png)"
   ]
  },
  {
   "cell_type": "markdown",
   "metadata": {
    "slideshow": {
     "slide_type": "slide"
    },
    "tags": []
   },
   "source": [
    "#### Ссылочная прозрачность\n",
    "Функции (вообще всё ФП) обладает ссылочной прозрачностью. Если любой вызов функции заменить её возвращаемым значением, результат от этого поменяться не должен: \n",
    "$$f\\left(x\\right) = y,$$\n",
    "а значит $f\\left(x\\right)$ можно заменять на $y$."
   ]
  },
  {
   "cell_type": "markdown",
   "metadata": {
    "nteract": {
     "transient": {
      "deleting": false
     }
    },
    "slideshow": {
     "slide_type": "subslide"
    },
    "tags": []
   },
   "source": [
    "### All you need is $\\lambda$\n",
    "Чистая функция вообще не просто функция обладающая ссылочной прозрачностью, но функция, которая может быть выражена в лямбда-исчислении: \n",
    "$$ x \\mapsto x $$\n",
    "$$\\lambda x \\mathrel{.} x$$"
   ]
  },
  {
   "cell_type": "code",
   "execution_count": 1,
   "metadata": {
    "collapsed": true,
    "execution": {
     "iopub.execute_input": "2022-04-07T08:20:24.887Z",
     "iopub.status.busy": "2022-04-07T08:20:24.871Z",
     "iopub.status.idle": "2022-04-07T08:20:24.936Z",
     "shell.execute_reply": "2022-04-07T08:20:24.963Z"
    },
    "jupyter": {
     "outputs_hidden": true
    },
    "nteract": {
     "transient": {
      "deleting": false
     }
    },
    "tags": []
   },
   "outputs": [
    {
     "data": {
      "text/plain": [
       "<function __main__.<lambda>(x)>"
      ]
     },
     "execution_count": 1,
     "metadata": {},
     "output_type": "execute_result"
    }
   ],
   "source": [
    "lambda x: x"
   ]
  },
  {
   "cell_type": "markdown",
   "metadata": {
    "nteract": {
     "transient": {
      "deleting": false
     }
    },
    "slideshow": {
     "slide_type": "notes"
    },
    "tags": []
   },
   "source": [
    "<div style=\"text-align: justify !important;\">\n",
    "    Алонзо Чёрч предложил $\\lambda$-исчисление в 1930-ых годах, хотя изначально предложенная им версия включала и логику, которая была противоречива (как было показано Клини и Россером). Тем не менее, само исчисление крайне важно для развития функционального программирования. Любой чисто функциональный язык — суть $\\lambda$-исчисление (сводим к нему).<br>\n",
    "    Затем Алан Тьюринг совершенно независимо показал, что это исчисление полное по Тьюрингу  (Turing, A. M. (1937). \"Computability and λ-definability\". The Journal of Symbolic Logic. Cambridge University Press. 2 (4): 153–163. doi:10.2307/2268280).<br>\n",
    "    Русский математик Моисей Эльевич Шейнфинкель разработал похожую систему вообще без связанных переменных, называемую комбина́торной логикой и ввёл каррирование. Это идеи, которые из его одной работы потом разовьёт Хаскелл Брукс Карри (хотя каррирование идея, конечно, не новая и описана ещё у Фреге, например). Х. Карри в принципе выведет все необходимые принципы для последующего создания языков ФП.<br>\n",
    "    Большое значение также имеет последующая разработка Чёрчем просто типизированного лямбда-исчисления ($\\lambda^\\rightarrow$)\n",
    "    <br><br>\n",
    "    LISP был создан создателем термина ИИ и основателем области его изучения Джоном Маккарти в 1950х (первые две имплементации написаны Стивом Расселлом). Common Lisp — обманка.<br>\n",
    "    Джон Бэкус, руководитель команды создателей первого высокоуровневого языка программирования Фортран, — частично наш отец, но для него и просто функциональное программирование в стандартном понимании недостаточно чистое.<br>\n",
    "    Язык ML был важной вехой.\n",
    "    Сильное функциональное программирование в Coq/Gallina (интерактивное программное средство доказательства теорем/его язык), где завершение программы за конечное время доказуемо.\n",
    "</div>"
   ]
  },
  {
   "cell_type": "markdown",
   "metadata": {
    "slideshow": {
     "slide_type": "subslide"
    },
    "tags": []
   },
   "source": [
    "### Поиграем роль интерпретатора"
   ]
  },
  {
   "cell_type": "markdown",
   "metadata": {},
   "source": [
    "$$ \\left( \\mathop{\\lambda} a b c \\mathbin{.} c b a \\right) z z \\left( \\mathop{\\lambda} w v \\mathbin{.} w \\right) $$\n",
    "\n",
    "<div style='display: block; text-align: center;'><img src='Frodo.jpg'></div>"
   ]
  },
  {
   "cell_type": "markdown",
   "metadata": {
    "slideshow": {
     "slide_type": "subslide"
    },
    "tags": []
   },
   "source": [
    "1. $ \\left( \\mathop{\\lambda} a b c \\mathbin{.} c b a \\right) z z \\left( \\mathop{\\lambda} w v \\mathbin{.} w \\right) $\n",
    "2. $ \\left( \\mathop{\\lambda} a \\mathbin{.} \\mathop{\\lambda} b \\mathbin{.} \\mathop{\\lambda} c \\mathbin{.} c b a \\right) \\left(z\\right) z \\left( \\mathop{\\lambda} w \\mathbin{.} \\mathop{\\lambda} v \\mathbin{.} w \\right) $ (*каррирование x3*)\n",
    "3. $ \\left( \\mathop{\\lambda} b \\mathbin{.} \\mathop{\\lambda} c \\mathbin{.} c b z \\right) \\left(z\\right) \\left( \\mathop{\\lambda} w \\mathbin{.} \\mathop{\\lambda} v \\mathbin{.} w \\right) $\n",
    "    * $ \\left( \\mathop{\\lambda} \\left[ a \\mathrel{:=} z \\right] \\mathbin{.} \\mathop{\\lambda} b \\mathbin{.} \\mathop{\\lambda} c \\mathbin{.} c b a \\right) z \\left( \\mathop{\\lambda} w \\mathbin{.} \\mathop{\\lambda} v \\mathbin{.} w \\right) $ (*$\\beta$-редукция*)\n",
    "4. $ \\left( \\mathop{\\lambda} c \\mathbin{.} c z z \\right) \\left( \\mathop{\\lambda} w \\mathbin{.} \\mathop{\\lambda} v \\mathbin{.} w \\right) $\n",
    "    * $ \\left( \\mathop{\\lambda} \\left[ b \\mathrel{:=} z \\right] \\mathbin{.} \\mathop{\\lambda} c \\mathbin{.} c b z \\right) \\left( \\mathop{\\lambda} w \\mathbin{.} \\mathop{\\lambda} v \\mathbin{.} w \\right) $ (*$\\beta$-редукция*)\n",
    "5. $ \\left( \\mathop{\\lambda} w \\mathbin{.} \\mathop{\\lambda} v \\mathbin{.} w \\right) \\left(z\\right) z $\n",
    "    * $ \\left( \\mathop{\\lambda} \\left[ c \\mathrel{:=} \\left( \\mathop{\\lambda} w \\mathbin{.} \\mathop{\\lambda} v \\mathbin{.} w \\right) \\right] \\mathbin{.} c z z \\right) $ (*$\\beta$-редукция*)\n",
    "6. $ \\left( \\mathop{\\lambda} v \\mathbin{.} z \\right) z $\n",
    "    * $ \\left( \\mathop{\\lambda} \\left[ w \\mathrel{:=} z \\right] \\mathbin{.} \\mathop{\\lambda} v \\mathbin{.} w \\right) z $ (*$\\beta$-редукция*)\n",
    "7. $z$\n",
    "    * $\\left( \\mathop{\\lambda} \\left[ v \\mathrel{:=} z \\right] \\mathbin{.} z \\right)$ (*$\\beta$-редукция* --- *аппликация постоянной функции*)"
   ]
  },
  {
   "cell_type": "markdown",
   "metadata": {
    "slideshow": {
     "slide_type": "slide"
    },
    "tags": []
   },
   "source": [
    "### Но зачем?!!\n",
    "<div style=\"text-align: right;\">The Zen of Python, by Tim Peters\n",
    "<br><br>\n",
    "Beautiful is better than ugly.<br>\n",
    "Explicit is better than implicit.<br>\n",
    "Simple is better than complex.<br>\n",
    "Complex is better than complicated.<br>\n",
    "...</div>\n",
    "\n",
    "\n",
    "* Декларативный подход\n",
    "* Формальная верификация (за счёт прослеживания инвариантов программы)\n",
    "* Модульность (разделяй-и-властвуй)\n",
    "* Композициональность кода как по Фреге (возможность повторного использования) (за счёт высокого уровня абстракции)\n",
    "* Простота отладки и тестирования (за счёт втч всего вышеперечисленного)\n",
    "* Легко хорошо распараллелить (в теории, а иногда и на практике)\n",
    "  * (можно жить без GIL — см. PyPy STM)"
   ]
  },
  {
   "cell_type": "markdown",
   "metadata": {
    "slideshow": {
     "slide_type": "slide"
    },
    "tags": []
   },
   "source": [
    "## А при чём здесь собственно Python?\n"
   ]
  },
  {
   "cell_type": "markdown",
   "metadata": {
    "nteract": {
     "transient": {
      "deleting": false
     }
    },
    "slideshow": {
     "slide_type": "slide"
    },
    "tags": []
   },
   "source": [
    "**Применяем теорию на практике:**\n",
    "**Ничего не меняйте!**\n",
    "\n",
    "\n",
    "...\n",
    "\n",
    "...."
   ]
  },
  {
   "cell_type": "markdown",
   "metadata": {
    "nteract": {
     "transient": {
      "deleting": false
     }
    },
    "slideshow": {
     "slide_type": "subslide"
    },
    "tags": []
   },
   "source": [
    "**Применяем теорию на практике:**\n",
    "**~~Ничего не меняйте!~~**\n",
    "\n",
    "\n",
    "Ложь! На самом деле без локальной мутации объектов внутри функции на Питоне очень не просто бы было программировать. Главное, чтобы эта мутация оставалась лишь внутри области видимости функции и более ничего не затрагивала."
   ]
  },
  {
   "cell_type": "markdown",
   "metadata": {
    "slideshow": {
     "slide_type": "slide"
    },
    "tags": []
   },
   "source": [
    "### Примеры кода\n",
    "#### Функциональный ящик инструментов"
   ]
  },
  {
   "cell_type": "code",
   "execution_count": 3,
   "metadata": {
    "slideshow": {
     "slide_type": "subslide"
    },
    "tags": []
   },
   "outputs": [
    {
     "data": {
      "text/plain": [
       "4950"
      ]
     },
     "execution_count": 3,
     "metadata": {},
     "output_type": "execute_result"
    }
   ],
   "source": [
    "#from typing import Iterator, Union\n",
    "from collections.abc import Iterator, Iterable\n",
    "from typing import Any, TypeVar\n",
    "# import itertools\n",
    "\n",
    "# StandardNumericType = Union[int, float]\n",
    "# StandardNumericType = int | float\n",
    "Number = TypeVar('Number', int, float)\n",
    "T = TypeVar('T')\n",
    "\n",
    "\n",
    "def count(\n",
    "    start: Number = 0,\n",
    "    step: Number = 1\n",
    ") -> Iterator[Number]:\n",
    "    \"\"\"Reinvent itertools.count.\"\"\"\n",
    "\n",
    "    number: Number = start\n",
    "    while True:\n",
    "        yield number\n",
    "        number += step\n",
    "\n",
    "\n",
    "def cut_off_iterator_at(iterator: Iterable[T], val: T) -> Iterable[T]:\n",
    "    \"\"\"Return a new iterator from a given one\n",
    "    that cuts it off at reaching value val (without it).\n",
    "    \"\"\"\n",
    "\n",
    "    for item in iterator:\n",
    "        if item == val:\n",
    "            break\n",
    "\n",
    "        yield item\n",
    "\n",
    "\n",
    "def sum_of_ints_up_to(upper_bound: int) -> int:\n",
    "    \"\"\"Sum integers until reaching the upper_bound\n",
    "    (not including it).\n",
    "    \"\"\"\n",
    "\n",
    "    summa: int = 0\n",
    "    successive_integers: Iterable[int] = count(0)\n",
    "    # for number in successive_integers:\n",
    "    #     if int(number) == upper_bound:\n",
    "    #         break\n",
    "    #     summa += int(number)\n",
    "    summa = sum(cut_off_iterator_at(successive_integers,\n",
    "                                    val=upper_bound))\n",
    "\n",
    "    return summa\n",
    "\n",
    "\n",
    "sum_of_ints_up_to(100)"
   ]
  },
  {
   "cell_type": "code",
   "execution_count": null,
   "metadata": {
    "slideshow": {
     "slide_type": "skip"
    },
    "tags": []
   },
   "outputs": [],
   "source": [
    "def cut_iterable(iterable: Iterable[Any], size: int) -> Iterable[Any]:\n",
    "    \"\"\"Return a new iterator from a given iterable\n",
    "    that cuts it off of size `size`.\n",
    "    \"\"\"\n",
    "\n",
    "    # return itertools.islice(iterator, 0, size)\n",
    "\n",
    "    for cnt, item in enumerate(iterable):\n",
    "        if cnt + 1 == size:\n",
    "            break\n",
    "\n",
    "        yield item"
   ]
  },
  {
   "cell_type": "code",
   "execution_count": 4,
   "metadata": {
    "slideshow": {
     "slide_type": "subslide"
    },
    "tags": []
   },
   "outputs": [
    {
     "data": {
      "text/plain": [
       "True"
      ]
     },
     "execution_count": 4,
     "metadata": {},
     "output_type": "execute_result"
    }
   ],
   "source": [
    "def naive_is_prime(n: int) -> bool:\n",
    "    \"\"\"Check if n is prime (directly by brute force)\n",
    "    \"\"\"\n",
    "\n",
    "    if n < 2:  # 0 and 1 are not prime\n",
    "        return False\n",
    "\n",
    "    if n == 2:  # 2 is prime\n",
    "        return True\n",
    "\n",
    "    if n % 2 == 0:  # exclude multiples of two\n",
    "        return False\n",
    "\n",
    "    for k in range(3, 1+int(n**0.5), 2):\n",
    "        # check if n is divisible by some odd number up to sqrt(n)\n",
    "        if n % k == 0:\n",
    "            return False\n",
    "\n",
    "    return True\n",
    "\n",
    "\n",
    "naive_is_prime(29)"
   ]
  },
  {
   "cell_type": "code",
   "execution_count": 5,
   "metadata": {
    "slideshow": {
     "slide_type": "subslide"
    },
    "tags": []
   },
   "outputs": [
    {
     "data": {
      "text/plain": [
       "True"
      ]
     },
     "execution_count": 5,
     "metadata": {},
     "output_type": "execute_result"
    }
   ],
   "source": [
    "# from typing import Callable, Iterator, Iterable, TypeVar, Union\n",
    "from collections.abc import Callable, Iterator, Iterable\n",
    "from typing import TypeVar\n",
    "from functools import partial\n",
    "\n",
    "# StandardNumericType = int | float\n",
    "T = TypeVar('T')\n",
    "\n",
    "\n",
    "def within_approximation(number1: float,\n",
    "                         number2: float,\n",
    "                         eps: float = 10e-5) -> bool:\n",
    "    \"\"\"Check if number1 equals number2 within given approximation.\"\"\"\n",
    "\n",
    "    return abs(number2 - number1) <= eps\n",
    "\n",
    "\n",
    "def apply_iteratively(function: Callable[[T], T],\n",
    "                      initial_value: T) -> Iterator[T]:\n",
    "    \"\"\"Apply function iteratively with initial_value,\n",
    "    yield each result in the sequence of applications.\n",
    "    \"\"\"\n",
    "\n",
    "    yield initial_value\n",
    "    # for val in apply_iteratively(function, function(initial_value)):\n",
    "    #     yield val\n",
    "    yield from apply_iteratively(function, function(initial_value))\n",
    "\n",
    "\n",
    "def heron_method(appr: float, num: float) -> float:\n",
    "    \"\"\"Calculate an iteration of Heron's method's sequence\n",
    "    to compute the square root.\n",
    "    \"\"\"\n",
    "    return (appr+num/appr) / 2\n",
    "\n",
    "\n",
    "def limit(\n",
    "    term_def: Callable[[float], float],\n",
    "    initial_val: float,\n",
    "    ε: float = 10e-5\n",
    "):\n",
    "    \"\"\"Find limit of a converging series with error ε.\"\"\"\n",
    "\n",
    "    def head_tail(ε: float,\n",
    "                  a0: float,\n",
    "                  iterable: Iterator[float]) -> float:\n",
    "        b = next(iterable)\n",
    "        if within_approximation(a0, b, ε):\n",
    "            return b\n",
    "\n",
    "        return head_tail(ε, b, iterable)\n",
    "\n",
    "    functional_sequence: \\\n",
    "        Iterator[float] = apply_iteratively(\n",
    "            term_def,\n",
    "            initial_val\n",
    "        )\n",
    "\n",
    "    return head_tail(\n",
    "        ε,\n",
    "        next(functional_sequence),\n",
    "        functional_sequence\n",
    "    )\n",
    "\n",
    "\n",
    "limit(partial(heron_method, num=5),\n",
    "      2, 10e-8) == 5 ** 0.5"
   ]
  },
  {
   "cell_type": "code",
   "execution_count": 6,
   "metadata": {
    "slideshow": {
     "slide_type": "subslide"
    },
    "tags": []
   },
   "outputs": [],
   "source": [
    "def group_by_iter(n: int, iterable: Iterator[T]) -> Iterator[tuple[T, ...]]:\n",
    "    row: tuple[T, ...] = tuple(next(iterable) for _ in range(n))\n",
    "    while row:\n",
    "        yield row\n",
    "        row = tuple(next(iterable) for _ in range(n))"
   ]
  },
  {
   "cell_type": "code",
   "execution_count": 7,
   "metadata": {
    "slideshow": {
     "slide_type": "subslide"
    },
    "tags": []
   },
   "outputs": [],
   "source": [
    "import bisect\n",
    "from collections.abc import Iterable, Mapping\n",
    "from typing import Any\n",
    "\n",
    "\n",
    "class StaticMapping(Mapping):\n",
    "    def __init__(self, iterable: Iterable[tuple[Any, Any]]) -> None:\n",
    "        self._data = tuple(iterable)\n",
    "        self._keys = tuple(sorted(key for key, _ in self._data))\n",
    "\n",
    "    def __getitem__(self, key):\n",
    "        ix = bisect.bisect_left(self._keys, key)\n",
    "        if (ix != len(self._keys)\n",
    "                and self._keys[ix] == key):\n",
    "            return self._data[ix][1]\n",
    "        raise KeyError('{0!r} not found'.format(key))\n",
    "\n",
    "    def __iter__(self) -> Iterator[Any]:\n",
    "        return iter(self._keys)\n",
    "\n",
    "    def __len__(self) -> int:\n",
    "        return len(self._keys)\n"
   ]
  },
  {
   "cell_type": "code",
   "execution_count": null,
   "metadata": {
    "slideshow": {
     "slide_type": "skip"
    },
    "tags": []
   },
   "outputs": [],
   "source": [
    "import urllib.request\n",
    "\n",
    "url = 'file:./name'\n",
    "with urllib.request.urlopen(url) as source:\n",
    "    # process\n",
    "    pass"
   ]
  },
  {
   "cell_type": "code",
   "execution_count": 170,
   "metadata": {
    "slideshow": {
     "slide_type": "skip"
    },
    "tags": []
   },
   "outputs": [],
   "source": [
    "from math import radians, sin, cos, sqrt, asin\n",
    "\n",
    "MI = 3959\n",
    "NM = 3440\n",
    "KM = 6371\n",
    "Point = tuple[float, float]\n",
    "\n",
    "\n",
    "def haversine(p1: Point, p2: Point, R: float = NM) -> float:\n",
    "    lat_1, lon_1 = p1\n",
    "    lat_2, lon_2 = p2\n",
    "    Δ_lat: float = radians(lat_2 - lat_1)\n",
    "    Δ_lon: float = radians(lon_2 - lon_1)\n",
    "    lat_1, lat_2 = map(radians, (lat_1, lat_2))\n",
    "    a = sqrt(\n",
    "        sin(Δ_lat/2) ** 2\n",
    "        + cos(lat_1) * cos(lat_2) * sin(Δ_lon/2)**2\n",
    "    )\n",
    "    c: float = 2 * asin(a)\n",
    "\n",
    "    return R * c\n"
   ]
  },
  {
   "cell_type": "markdown",
   "metadata": {
    "slideshow": {
     "slide_type": "slide"
    },
    "tags": []
   },
   "source": [
    "### Аннотация переменных (mypy)\n",
    "<div style=\"text-align: center\"><img src=\"The-Ultimate-Guide-to-Python-Type-Checking_Watermarked_Real_Python.jpg\"></div>"
   ]
  },
  {
   "cell_type": "markdown",
   "metadata": {
    "slideshow": {
     "slide_type": "slide"
    },
    "tags": []
   },
   "source": [
    "### Генераторы\n",
    "<div style=\"text-align: right !important\">\n",
    "«The wilderness yieldeth food for them and for their children.»<br>\n",
    "―The Bible (King James Version)<br>"
   ]
  },
  {
   "cell_type": "code",
   "execution_count": 8,
   "metadata": {
    "slideshow": {
     "slide_type": "subslide"
    },
    "tags": []
   },
   "outputs": [
    {
     "name": "stdout",
     "output_type": "stream",
     "text": [
      "<generator object simple_count at 0x7f5c29481460>\n",
      "1\n",
      "2\n",
      "3\n"
     ]
    }
   ],
   "source": [
    "def simple_count(start=0):\n",
    "    \"\"\"Generate successive integers from start\"\"\"\n",
    "\n",
    "    while True:\n",
    "        start += 1\n",
    "        yield start  # кнопка \"Пауза\"\n",
    "        # return = yield\n",
    "        # + удаление локальной\n",
    "        # области видимости\n",
    "        # со всеми переменными\n",
    "        # yield = return\n",
    "        # + удержание состояния и\n",
    "        # локальных переменных\n",
    "        # функции в памяти\n",
    "\n",
    "\n",
    "numbers = simple_count()\n",
    "print(numbers)\n",
    "print(numbers.__next__())\n",
    "print(next(numbers))\n",
    "print(next(numbers))"
   ]
  },
  {
   "cell_type": "code",
   "execution_count": 9,
   "metadata": {
    "slideshow": {
     "slide_type": "subslide"
    },
    "tags": []
   },
   "outputs": [
    {
     "ename": "StopIteration",
     "evalue": "",
     "output_type": "error",
     "traceback": [
      "\u001b[0;31m---------------------------------------------------------------------------\u001b[0m",
      "\u001b[0;31mStopIteration\u001b[0m                             Traceback (most recent call last)",
      "Input \u001b[0;32mIn [9]\u001b[0m, in \u001b[0;36m<cell line: 6>\u001b[0;34m()\u001b[0m\n\u001b[1;32m      4\u001b[0m s \u001b[38;5;241m=\u001b[39m stop()\n\u001b[1;32m      5\u001b[0m \u001b[38;5;28mnext\u001b[39m(s)\n\u001b[0;32m----> 6\u001b[0m \u001b[38;5;28;43mnext\u001b[39;49m\u001b[43m(\u001b[49m\u001b[43ms\u001b[49m\u001b[43m)\u001b[49m\n",
      "\u001b[0;31mStopIteration\u001b[0m: "
     ]
    }
   ],
   "source": [
    "def stop(): yield\n",
    "\n",
    "\n",
    "s = stop()\n",
    "next(s)\n",
    "next(s)"
   ]
  },
  {
   "cell_type": "markdown",
   "metadata": {
    "slideshow": {
     "slide_type": "subslide"
    },
    "tags": []
   },
   "source": [
    "#### Ленивые вычисления (отложенные)\n",
    "\n",
    "<div style=\"text-align: right !important\">\n",
    "    «Глупо думать про лень негативно<br>\n",
    "    И надменно о ней отзываться:<br>\n",
    "    Лень умеет мечтать так активно,<br>\n",
    "    Что мечты начинают сбываться.»<br>\n",
    "    —Игорь Губерман\n",
    "</div>\n",
    "\n",
    "\n",
    "* способы создания итераторов\n",
    "  * `iter(range(...))`\n",
    "  * `iter(iterable)`\n",
    "  * генераторные выражения (вида `(... for item in iterable ...)`)\n",
    "  * пользовательские генераторы (`yield` и `yield from iterable`)\n",
    "* ветвление `if-else`\n",
    "* логические операторы `or`, `and`..."
   ]
  },
  {
   "cell_type": "code",
   "execution_count": null,
   "metadata": {
    "slideshow": {
     "slide_type": "subslide"
    },
    "tags": []
   },
   "outputs": [],
   "source": [
    "iterable: Iterable[Any] = []\n",
    "\n",
    "for item in iter(iterable):\n",
    "    # ...\n",
    "    pass\n",
    "\n",
    "for item in iterable:\n",
    "    # ...\n",
    "    pass"
   ]
  },
  {
   "cell_type": "markdown",
   "metadata": {
    "nteract": {
     "transient": {
      "deleting": false
     }
    },
    "slideshow": {
     "slide_type": "slide"
    },
    "tags": []
   },
   "source": [
    "## Проблемы в раю\n",
    "\n",
    "\n",
    "<div style=\"text-align: right;\">\n",
    "    «I have never considered Python to be heavily influenced by functional languages,<br> \n",
    "    no matter what people say or think. I was much more familiar<br>\n",
    "    with imperative languages such as C and Algol 68<br>\n",
    "    and although I had made functions first-class objects,<br> I didn't view Python as a functional programming language.<br>\n",
    "    […]In general, because Python's extremely dynamic nature,<br> it is impossible to do the kind of compile-time optimization<br> known from functional languages like Haskell or ML. And that's fine.»<br>\n",
    "—Гвидо ван Россум, <a href=\"https://python-history.blogspot.com/2009/04/origins-of-pythons-functional-features.html\">https://python-history.blogspot.com/2009/04/origins-of-pythons-functional-features.html</a></div>\n",
    "\n",
    "\n",
    "* Модуль `functools` скорее является дополнением к стандартному Python, прилаженным к нему потом. И так со всем FP. Объекты Python не так хороши для FP в реальности и совершенно для него не оптимизированы. Их можно для него использовать, но нельзя сказать, что они специально на это рассчитаны. Вообще структуры Python не оптимизированы для FP.\n",
    "* Итераторы имеют изменяющееся состояние. Могут быть проитерированы лишь однажды. Потом заканчиваются.\n",
    "* Нет встроенных связанных списков :(\n",
    "* нет TCO (tail call optimization — оптимизации хвостовой рекурсии) ~~`sys.setrecursionlimit(1000)`~~ (размер стека в любом случае ограничен.)"
   ]
  },
  {
   "cell_type": "code",
   "execution_count": 10,
   "metadata": {
    "slideshow": {
     "slide_type": "subslide"
    },
    "tags": []
   },
   "outputs": [
    {
     "name": "stdout",
     "output_type": "stream",
     "text": [
      "2971 3000\n"
     ]
    }
   ],
   "source": [
    "import sys\n",
    "\n",
    "\n",
    "def call_me(me, counter=0, limit=2971):\n",
    "    if counter == limit:\n",
    "        return counter\n",
    "    return me(me, counter + 1)\n",
    "\n",
    "\n",
    "print(call_me(call_me), sys.getrecursionlimit())"
   ]
  },
  {
   "cell_type": "code",
   "execution_count": 11,
   "metadata": {
    "slideshow": {
     "slide_type": "subslide"
    },
    "tags": []
   },
   "outputs": [
    {
     "name": "stdout",
     "output_type": "stream",
     "text": [
      "5 6 7 8 9 10 11 12 13 14 15 16 17 18 19 20\n",
      "\n",
      "5 20\n"
     ]
    },
    {
     "ename": "StopIteration",
     "evalue": "",
     "output_type": "error",
     "traceback": [
      "\u001b[0;31m---------------------------------------------------------------------------\u001b[0m",
      "\u001b[0;31mStopIteration\u001b[0m                             Traceback (most recent call last)",
      "Input \u001b[0;32mIn [11]\u001b[0m, in \u001b[0;36m<cell line: 20>\u001b[0;34m()\u001b[0m\n\u001b[1;32m     18\u001b[0m \u001b[38;5;28mprint\u001b[39m()\n\u001b[1;32m     19\u001b[0m \u001b[38;5;28mprint\u001b[39m(\u001b[38;5;241m*\u001b[39mlimits(seq))\n\u001b[0;32m---> 20\u001b[0m \u001b[38;5;28;43mnext\u001b[39;49m\u001b[43m(\u001b[49m\u001b[43mseq\u001b[49m\u001b[43m)\u001b[49m\n",
      "\u001b[0;31mStopIteration\u001b[0m: "
     ]
    }
   ],
   "source": [
    "import itertools\n",
    "from typing import Any\n",
    "from collections.abc import Iterable\n",
    "\n",
    "\n",
    "def limits(iterable: Iterable[Any]) -> tuple[Any, Any]:\n",
    "    \"\"\"Find minimum and maximum for an iterable\n",
    "    and return a tuple with them.\n",
    "    \"\"\"\n",
    "\n",
    "    tee1, tee2 = itertools.tee(iterable, 2)\n",
    "\n",
    "    return min(tee1), max(tee2)\n",
    "\n",
    "\n",
    "print(*itertools.islice(itertools.count(5), 0, 15 + 1))\n",
    "seq = itertools.islice(itertools.count(5), 0, 15 + 1)\n",
    "print()\n",
    "print(*limits(seq))\n",
    "next(seq)"
   ]
  },
  {
   "cell_type": "markdown",
   "metadata": {
    "slideshow": {
     "slide_type": "notes"
    },
    "tags": []
   },
   "source": [
    "\"Once tee() has made a split, the original iterable should not be used anywhere else; otherwise, the iterable could get advanced without the tee objects being informed.\n",
    "\n",
    "tee iterators are not threadsafe. A RuntimeError may be raised when using simultaneously iterators returned by the same tee() call, even if the original iterable is threadsafe.\n",
    "\n",
    "This itertool may require significant auxiliary storage (depending on how much temporary data needs to be stored). In general, if one iterator uses most or all of the data before another iterator starts, it is faster to use list() instead of tee().\""
   ]
  },
  {
   "cell_type": "markdown",
   "metadata": {
    "slideshow": {
     "slide_type": "subslide"
    },
    "tags": []
   },
   "source": [
    "![Software_and_hardware-Alan_Kay.jpg](Software_and_hardware-Alan_Kay.jpg)"
   ]
  },
  {
   "cell_type": "markdown",
   "metadata": {
    "slideshow": {
     "slide_type": "slide"
    },
    "tags": []
   },
   "source": [
    "### Задача. Сделайте код более функциональным"
   ]
  },
  {
   "cell_type": "code",
   "execution_count": 12,
   "metadata": {},
   "outputs": [
    {
     "name": "stdout",
     "output_type": "stream",
     "text": [
      "19.411006963835693\n"
     ]
    }
   ],
   "source": [
    "import random\n",
    "from collections.abc import Iterator\n",
    "from typing import cast\n",
    "\n",
    "some_data: list[float] = [random.uniform(0, 10) for _ in range(20)]\n",
    "iterable: Iterator[float] = iter(some_data)\n",
    "\n",
    "begin: float = next(cast(Iterator[float], iterable))\n",
    "res: float = 0\n",
    "for end in iterable:\n",
    "    res = max(res, sum((begin, end)))\n",
    "    begin = end\n",
    "\n",
    "print(res)"
   ]
  },
  {
   "cell_type": "code",
   "execution_count": 13,
   "metadata": {
    "slideshow": {
     "slide_type": "subslide"
    },
    "tags": []
   },
   "outputs": [
    {
     "name": "stdout",
     "output_type": "stream",
     "text": [
      "19.411006963835693\n"
     ]
    }
   ],
   "source": [
    "# import random\n",
    "from collections.abc import Iterator\n",
    "from typing import Any, TypeVar, Optional, cast\n",
    "\n",
    "T = TypeVar('T')\n",
    "Pair = tuple[Optional[T], Optional[T]]\n",
    "\n",
    "\n",
    "def break_into_pairs(iterator: Iterator[T]) -> Iterator[Pair]:\n",
    "    \"\"\"Accrete an iterator's data to form another iterator\n",
    "    of successive pairs of values.\n",
    "    For example, for an iterator returning s1, s2, s3, ...\n",
    "    we will have (s1, s2), (s2, s3), (s3, ...), (..., ...), ...\n",
    "    \"\"\"\n",
    "\n",
    "    first: T = next(iterator)\n",
    "    for second in iterator:\n",
    "        yield first, second\n",
    "        first = second\n",
    "\n",
    "\n",
    "# some_data: list[float] = [random.uniform(0, 10) for _ in range(20)]\n",
    "iterable: Iterator[float] = iter(some_data)\n",
    "paired_iterable: Iterator[Pair] = break_into_pairs(\n",
    "    cast(Iterator[float], iterable)\n",
    ")\n",
    "res: float = max(map(sum, paired_iterable))\n",
    "\n",
    "print(res)"
   ]
  },
  {
   "cell_type": "code",
   "execution_count": 14,
   "metadata": {
    "slideshow": {
     "slide_type": "subslide"
    },
    "tags": []
   },
   "outputs": [
    {
     "name": "stdout",
     "output_type": "stream",
     "text": [
      "19.411006963835693\n"
     ]
    }
   ],
   "source": [
    "# import random\n",
    "from collections.abc import Sequence\n",
    "from typing import Any, TypeVar, Optional, cast\n",
    "\n",
    "T = TypeVar('T')\n",
    "Pair = tuple[Optional[T], Optional[T]]\n",
    "\n",
    "\n",
    "def break_seq_into_pairs(seq: Sequence[T]) -> Iterator[Pair]:\n",
    "    \"\"\"For example, for a sequence of values s1, s2, s3, ...\n",
    "    we will return an iterator of (s1, s2), (s2, s3), (s3, ...),  ...\n",
    "    \"\"\"\n",
    "\n",
    "    return zip(seq[0::2], seq[1::2])\n",
    "\n",
    "\n",
    "# some_data: list[float] = [random.uniform(0, 10) for _ in range(20)]\n",
    "paired_iterable = break_seq_into_pairs(some_data)\n",
    "# res: float = max(map(sum, paired_iterable))\n",
    "res = max(map(sum, paired_iterable))\n",
    "\n",
    "print(res)"
   ]
  },
  {
   "cell_type": "code",
   "execution_count": 15,
   "metadata": {
    "slideshow": {
     "slide_type": "subslide"
    },
    "tags": []
   },
   "outputs": [
    {
     "data": {
      "text/plain": [
       "19.411006963835693"
      ]
     },
     "execution_count": 15,
     "metadata": {},
     "output_type": "execute_result"
    }
   ],
   "source": [
    "from itertools import zip_longest\n",
    "from collections.abc import Sequence\n",
    "from typing import Any, TypeVar, Optional, cast\n",
    "\n",
    "T = TypeVar('T')\n",
    "\n",
    "\n",
    "def break_seq_into_tuples(seq: Sequence[T],\n",
    "                          tuple_len: int) -> Iterator[tuple[T, ...]]:\n",
    "    \"\"\"Return an iterator of all tuples of n consecutive elements\n",
    "    for a given sequence.\n",
    "    \"\"\"\n",
    "\n",
    "    return zip_longest(*(seq[k::tuple_len] for k in range(tuple_len)))\n",
    "\n",
    "\n",
    "max(map(sum, break_seq_into_tuples(some_data, 2)))"
   ]
  },
  {
   "cell_type": "markdown",
   "metadata": {
    "slideshow": {
     "slide_type": "subslide"
    },
    "tags": []
   },
   "source": [
    "#### Функциональный подход vs императивный подход на простейшем примере"
   ]
  },
  {
   "cell_type": "code",
   "execution_count": 16,
   "metadata": {},
   "outputs": [
    {
     "data": {
      "text/plain": [
       "28"
      ]
     },
     "execution_count": 16,
     "metadata": {},
     "output_type": "execute_result"
    }
   ],
   "source": [
    "# imperative procedural 'von Neumann' style\n",
    "\n",
    "dim = 3\n",
    "v1 = (1, 2, 3)\n",
    "v2 = (6, 5, 4)\n",
    "\n",
    "scalar_prod = 0\n",
    "for k in range(dim):\n",
    "    scalar_prod += v1[k] * v2[k]\n",
    "\n",
    "scalar_prod"
   ]
  },
  {
   "cell_type": "code",
   "execution_count": 17,
   "metadata": {
    "slideshow": {
     "slide_type": "subslide"
    },
    "tags": []
   },
   "outputs": [
    {
     "data": {
      "text/plain": [
       "28"
      ]
     },
     "execution_count": 17,
     "metadata": {},
     "output_type": "execute_result"
    }
   ],
   "source": [
    "#  a more pythonic style\n",
    "# (and, incidentally (or is it??) more functional)\n",
    "# but still imperative\n",
    "\n",
    "dim = 3\n",
    "v1 = (1, 2, 3)\n",
    "v2 = (6, 5, 4)\n",
    "\n",
    "scalar_prod = 0\n",
    "for pr1, pr2 in zip(v1, v2):\n",
    "    scalar_prod += pr1 * pr2\n",
    "\n",
    "scalar_prod"
   ]
  },
  {
   "cell_type": "code",
   "execution_count": 19,
   "metadata": {
    "slideshow": {
     "slide_type": "subslide"
    },
    "tags": []
   },
   "outputs": [
    {
     "data": {
      "text/plain": [
       "28"
      ]
     },
     "execution_count": 19,
     "metadata": {},
     "output_type": "execute_result"
    }
   ],
   "source": [
    "# functional declarative style\n",
    "\n",
    "from math import prod\n",
    "\n",
    "dim = 3\n",
    "v1 = (1, 2, 3)\n",
    "v2 = (6, 5, 4)\n",
    "\n",
    "scalar_prod = sum(map(prod, zip(v1, v2)))\n",
    "\n",
    "scalar_prod"
   ]
  },
  {
   "cell_type": "markdown",
   "metadata": {
    "slideshow": {
     "slide_type": "slide"
    },
    "tags": []
   },
   "source": [
    "## Ссылки\n",
    "* [Functional Programming HOWTO](https://docs.python.org/3/howto/functional.html) (есть также [[перевод]](https://digitology.tech/docs/python_3/howto/functional.htmlhttps://digitology.tech/docs/python_3/howto/functional.html))\n",
    "* [Словарь сленга функционального программирования [перевод]](https://github.com/epogrebnyak/functional-programming-jargon)\n",
    "\n",
    "## Литература\n",
    "Её практически нет. ._.\n",
    "\n",
    "\n",
    "[Awesome Functional Python](https://github.com/sfermigier/awesome-functional-python) ссылается на две \"книги\" (одна из которых состоит из всего ~37 страниц, а вторая (хоть и из ~398) мне показалась чтивом весьма сумбурным и специфическим).\n",
    "\n",
    "\n",
    "<div style=\"text-align: center;\"><img src=\"tumbleweed.jpg\"></div>"
   ]
  }
 ],
 "metadata": {
  "celltoolbar": "Slideshow",
  "kernelspec": {
   "display_name": "Python 3",
   "language": "python",
   "name": "python3"
  },
  "language_info": {
   "codemirror_mode": {
    "name": "ipython",
    "version": 3
   },
   "file_extension": ".py",
   "mimetype": "text/x-python",
   "name": "python",
   "nbconvert_exporter": "python",
   "pygments_lexer": "ipython3",
   "version": "3.10.3"
  },
  "nteract": {
   "version": "0.28.0"
  },
  "toc-showtags": false,
  "widgets": {
   "application/vnd.jupyter.widget-state+json": {
    "state": {},
    "version_major": 2,
    "version_minor": 0
   }
  }
 },
 "nbformat": 4,
 "nbformat_minor": 4
}
